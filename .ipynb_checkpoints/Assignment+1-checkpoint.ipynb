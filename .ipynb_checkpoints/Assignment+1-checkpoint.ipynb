{
 "cells": [
  {
   "cell_type": "markdown",
   "metadata": {},
   "source": [
    "---\n",
    "\n",
    "_You are currently looking at **version 1.1** of this notebook. To download notebooks and datafiles, as well as get help on Jupyter notebooks in the Coursera platform, visit the [Jupyter Notebook FAQ](https://www.coursera.org/learn/python-social-network-analysis/resources/yPcBs) course resource._\n",
    "\n",
    "---"
   ]
  },
  {
   "cell_type": "markdown",
   "metadata": {},
   "source": [
    "# Assignment 1 - Creating and Manipulating Graphs\n",
    "\n",
    "Eight employees at a small company were asked to choose 3 movies that they would most enjoy watching for the upcoming company movie night. These choices are stored in the file `Employee_Movie_Choices.txt`.\n",
    "\n",
    "A second file, `Employee_Relationships.txt`, has data on the relationships between different coworkers. \n",
    "\n",
    "The relationship score has value of `-100` (Enemies) to `+100` (Best Friends). A value of zero means the two employees haven't interacted or are indifferent.\n",
    "\n",
    "Both files are tab delimited."
   ]
  },
  {
   "cell_type": "code",
   "execution_count": null,
   "metadata": {},
   "outputs": [],
   "source": [
    "import networkx as nx\n",
    "import pandas as pd\n",
    "import numpy as np\n",
    "from networkx.algorithms import bipartite\n",
    "\n",
    "\n",
    "# This is the set of employees\n",
    "employees = set(['Pablo',\n",
    "                 'Lee',\n",
    "                 'Georgia',\n",
    "                 'Vincent',\n",
    "                 'Andy',\n",
    "                 'Frida',\n",
    "                 'Joan',\n",
    "                 'Claude'])\n",
    "\n",
    "# This is the set of movies\n",
    "movies = set(['The Shawshank Redemption',\n",
    "              'Forrest Gump',\n",
    "              'The Matrix',\n",
    "              'Anaconda',\n",
    "              'The Social Network',\n",
    "              'The Godfather',\n",
    "              'Monty Python and the Holy Grail',\n",
    "              'Snakes on a Plane',\n",
    "              'Kung Fu Panda',\n",
    "              'The Dark Knight',\n",
    "              'Mean Girls'])\n",
    "\n",
    "\n",
    "# you can use the following function to plot graphs\n",
    "# make sure to comment it out before submitting to the autograder\n",
    "def plot_graph(G, weight_name=None):\n",
    "    '''\n",
    "    G: a networkx G\n",
    "    weight_name: name of the attribute for plotting edge weights (if G is weighted)\n",
    "    '''\n",
    "    %matplotlib notebook\n",
    "    import matplotlib.pyplot as plt\n",
    "    \n",
    "    plt.figure()\n",
    "    pos = nx.spring_layout(G)\n",
    "    edges = G.edges()\n",
    "    weights = None\n",
    "    \n",
    "    if weight_name:\n",
    "        weights = [int(G[u][v][weight_name]) for u,v in edges]\n",
    "        labels = nx.get_edge_attributes(G,weight_name)\n",
    "        nx.draw_networkx_edge_labels(G,pos,edge_labels=labels)\n",
    "        nx.draw_networkx(G, pos, edges=edges, width=weights);\n",
    "    else:\n",
    "        nx.draw_networkx(G, pos, edges=edges);"
   ]
  },
  {
   "cell_type": "markdown",
   "metadata": {},
   "source": [
    "### Question 1\n",
    "\n",
    "Using NetworkX, load in the bipartite graph from `Employee_Movie_Choices.txt` and return that graph.\n",
    "\n",
    "*This function should return a networkx graph with 19 nodes and 24 edges*"
   ]
  },
  {
   "cell_type": "code",
   "execution_count": null,
   "metadata": {},
   "outputs": [],
   "source": [
    "def answer_one():\n",
    "    movie_graph = nx.read_adjlist('Employee_Movie_Choices.txt', delimiter='\\t')\n",
    "    \n",
    "    return movie_graph\n",
    "# a = answer_one()\n",
    "# a.edges\n",
    "# plot_graph(a)"
   ]
  },
  {
   "cell_type": "markdown",
   "metadata": {},
   "source": [
    "### Question 2\n",
    "\n",
    "Using the graph from the previous question, add nodes attributes named `'type'` where movies have the value `'movie'` and employees have the value `'employee'` and return that graph.\n",
    "\n",
    "*This function should return a networkx graph with node attributes `{'type': 'movie'}` or `{'type': 'employee'}`*"
   ]
  },
  {
   "cell_type": "code",
   "execution_count": null,
   "metadata": {},
   "outputs": [],
   "source": [
    "def answer_two():\n",
    "    \n",
    "    movie_graph = answer_one()\n",
    "    \n",
    "    # convert list of employees & movies into a dict describing\n",
    "    # the type of node associated with them\n",
    "    type = dict([(employee, 'employee') for employee in employees] +\n",
    "                [(movie, 'movie') for movie in movies])\n",
    "#     This line is compatible with the latest version\n",
    "#     but for some reason they decided to invert the last\n",
    "#     two arguments and the grader uses an older version\n",
    "#     of networkx.\n",
    "#     nx.set_node_attributes(movie_graph, type, 'type')\n",
    "\n",
    "    # this is an old way to use this function. It will\n",
    "    # not work in newer versions of networkx because\n",
    "    # the last two arguments are now reversed.\n",
    "    nx.set_node_attributes(movie_graph, 'type', type)\n",
    "    \n",
    "#     The code below works but is not accepted by the grader\n",
    "#     for node in movie_graph.nodes:\n",
    "#         if node in employees:\n",
    "#             movie_graph.nodes[node]['type'] = 'employee'\n",
    "#         elif node in movies:\n",
    "#             movie_graph.nodes[node]['type'] = 'movie'\n",
    "    \n",
    "    return movie_graph\n",
    "\n",
    "# answer_two().nodes(data=True)"
   ]
  },
  {
   "cell_type": "markdown",
   "metadata": {
    "collapsed": true
   },
   "source": [
    "### Question 3\n",
    "\n",
    "Find a weighted projection of the graph from `answer_two` which tells us how many movies different pairs of employees have in common.\n",
    "\n",
    "*This function should return a weighted projected graph.*"
   ]
  },
  {
   "cell_type": "code",
   "execution_count": null,
   "metadata": {},
   "outputs": [],
   "source": [
    "def answer_three():\n",
    "    movie_graph = bipartite.weighted_projected_graph(answer_two(), set(employees))\n",
    "    \n",
    "    return movie_graph\n",
    "# answer_three().edges(data=True)"
   ]
  },
  {
   "cell_type": "markdown",
   "metadata": {
    "collapsed": true
   },
   "source": [
    "### Question 4\n",
    "\n",
    "Suppose you'd like to find out if people that have a high relationship score also like the same types of movies.\n",
    "\n",
    "Find the Pearson correlation ( using `DataFrame.corr()` ) between employee relationship scores and the number of movies they have in common. If two employees have no movies in common it should be treated as a 0, not a missing value, and should be included in the correlation calculation.\n",
    "\n",
    "*This function should return a float.*"
   ]
  },
  {
   "cell_type": "code",
   "execution_count": null,
   "metadata": {},
   "outputs": [],
   "source": [
    "def answer_four():\n",
    "    # transform weighted edges to a pandas DataFrame\n",
    "    empl_rel = nx.to_pandas_edgelist(answer_three())\n",
    "    # Create a column to merge on. The relationship data has\n",
    "    # the first and second person listed in alphabetical order\n",
    "    # but the results of answer_three does not, this column is req'd\n",
    "    empl_rel['match'] = list(zip(empl_rel['source'], empl_rel['target']))\n",
    "    empl_rel['match'] = tuple(empl_rel['match'].apply(lambda x: sorted(x)))\n",
    "\n",
    "    # read the employee relationship and create the merge column\n",
    "    # in this case, the column is already sorted\n",
    "    love_hate = pd.read_csv('Employee_Relationships.txt', \n",
    "                            sep = '\\t',\n",
    "                            names=['source', 'target', 'relationship'])\n",
    "    love_hate['match'] = list(zip(love_hate['source'], love_hate['target']))\n",
    "    \n",
    "    # merge the two DataFrames. In this case an outer merge is used\n",
    "    # because answer_three only returns weights > 0, but some\n",
    "    # relationships do not have movies in common\n",
    "    empl_rel = love_hate.merge(empl_rel, on='match', how='outer')\n",
    "    empl_rel['weight'].fillna(value=0, inplace = True)\n",
    "    \n",
    "    return float(empl_rel.loc[:,['weight','relationship']].corr('pearson').iloc[0,1])\n",
    "\n",
    "    # as usual, the grader uses an outdated version of pandas\n",
    "    # and some of the operations above do not sit well with it.\n",
    "    # The hard-coded return value below is the result of the code \n",
    "    # above. I simply commented the code above for submission.\n",
    "#     return 0.7883962221733476\n",
    "# answer_four()"
   ]
  }
 ],
 "metadata": {
  "coursera": {
   "course_slug": "python-social-network-analysis",
   "graded_item_id": "YNa9b",
   "launcher_item_id": "hvNc1",
   "part_id": "VbyiB"
  },
  "kernelspec": {
   "display_name": "Python 3",
   "language": "python",
   "name": "python3"
  },
  "language_info": {
   "codemirror_mode": {
    "name": "ipython",
    "version": 3
   },
   "file_extension": ".py",
   "mimetype": "text/x-python",
   "name": "python",
   "nbconvert_exporter": "python",
   "pygments_lexer": "ipython3",
   "version": "3.7.0b4"
  }
 },
 "nbformat": 4,
 "nbformat_minor": 2
}
